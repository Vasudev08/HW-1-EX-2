{
 "cells": [
  {
   "cell_type": "code",
   "execution_count": 1,
   "metadata": {},
   "outputs": [
    {
     "name": "stdout",
     "output_type": "stream",
     "text": [
      "[10, 20, 30, 40, 50, 20, 40, 60, 80, 100, 30, 60, 90, 120, 150, 40, 80, 120, 160, 200, 50, 100, 150, 200, 250]\n"
     ]
    }
   ],
   "source": [
    "x = [10, 20, 30, 40, 50]\n",
    "y = [1, 2, 3, 4, 5]\n",
    "\n",
    "result = []\n",
    "for i in x:\n",
    "    for j in y:\n",
    "        result.append(i * j)\n",
    "\n",
    "print(result)\n",
    "\n",
    "# we have to list 'x' and 'y' which we traverse using two 'for' loops\n",
    "# the outside 'for' loops traverses through '10' to '50' \n",
    "# the inside 'for' loop traverse 5 times for every value in 'x' list\n",
    "# and appends the result of mutliplation between 'i' and 'j'\n"
   ]
  },
  {
   "cell_type": "code",
   "execution_count": null,
   "metadata": {},
   "outputs": [],
   "source": []
  }
 ],
 "metadata": {
  "kernelspec": {
   "display_name": "Python 3",
   "language": "python",
   "name": "python3"
  },
  "language_info": {
   "codemirror_mode": {
    "name": "ipython",
    "version": 3
   },
   "file_extension": ".py",
   "mimetype": "text/x-python",
   "name": "python",
   "nbconvert_exporter": "python",
   "pygments_lexer": "ipython3",
   "version": "3.11.9"
  }
 },
 "nbformat": 4,
 "nbformat_minor": 2
}
